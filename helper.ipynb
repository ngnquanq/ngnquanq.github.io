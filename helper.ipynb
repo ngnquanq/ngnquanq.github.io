{
 "cells": [
  {
   "cell_type": "code",
   "execution_count": 1,
   "metadata": {},
   "outputs": [],
   "source": [
    "import os\n",
    "import datetime\n",
    "\n",
    "def create_blog_post(title: str, published: bool):\n",
    "    # Get the current date\n",
    "    now = datetime.datetime.now()\n",
    "\n",
    "    # Format the date as year-month-day\n",
    "    date_str = now.strftime('%Y-%m-%d')\n",
    "    \n",
    "    # Add 15 days to the current date\n",
    "    future_date = now + datetime.timedelta(days=15)\n",
    "    future_date_str = future_date.strftime('%Y-%m-%d')\n",
    "\n",
    "    # Get the list of existing blog posts\n",
    "    posts = os.listdir('_posts')\n",
    "\n",
    "    # Filter the list to only include blog posts from 2024\n",
    "    posts_2024 = [post for post in posts if post.startswith('2')]\n",
    "\n",
    "    # Determine the number for the new blog post\n",
    "    n = len(posts_2024) + 1\n",
    "\n",
    "    # Create the new blog post filename\n",
    "    new_post_filename = f'_posts/{future_date_str}-blog-post-{n}.md'\n",
    "\n",
    "    # Create the new blog post file\n",
    "    with open(new_post_filename, 'w') as f:\n",
    "        f.write(f'''---\n",
    "title: '{title}'\n",
    "date: {future_date_str}\n",
    "permalink: /posts/2024/{future_date.strftime('%m')}/blog-post-{n}/\n",
    "tags:\n",
    "  - Paper explained\n",
    "  - Deep Learning\n",
    "published: {str(published).lower()}\n",
    "---\n",
    "\n",
    "Content goes here\n",
    "''')\n",
    "\n",
    "    print(f'Created new blog post: {new_post_filename}')\n"
   ]
  },
  {
   "cell_type": "code",
   "execution_count": 2,
   "metadata": {},
   "outputs": [
    {
     "name": "stdout",
     "output_type": "stream",
     "text": [
      "Created new blog post: _posts/2024-04-20-blog-post-8.md\n"
     ]
    }
   ],
   "source": [
    "# Example usage:\n",
    "create_blog_post('Fundamental 2: Gaussian Mixture Model and EM algorithm', True)"
   ]
  },
  {
   "cell_type": "code",
   "execution_count": null,
   "metadata": {},
   "outputs": [],
   "source": []
  }
 ],
 "metadata": {
  "kernelspec": {
   "display_name": "Python 3",
   "language": "python",
   "name": "python3"
  },
  "language_info": {
   "codemirror_mode": {
    "name": "ipython",
    "version": 3
   },
   "file_extension": ".py",
   "mimetype": "text/x-python",
   "name": "python",
   "nbconvert_exporter": "python",
   "pygments_lexer": "ipython3",
   "version": "3.10.0"
  }
 },
 "nbformat": 4,
 "nbformat_minor": 2
}
